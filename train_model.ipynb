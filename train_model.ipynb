{
 "cells": [
  {
   "cell_type": "code",
   "execution_count": 1,
   "metadata": {},
   "outputs": [],
   "source": [
    "from ultralytics import YOLO\n"
   ]
  },
  {
   "cell_type": "code",
   "execution_count": null,
   "metadata": {},
   "outputs": [],
   "source": [
    "model = YOLO(r\"C:\\Users\\Admin\\Desktop\\Repos\\MyRepos\\Design Project II\\yolo11s-seg.pt\")\n",
    "results = model.train(data=r\"C:\\Users\\Admin\\Desktop\\Repos\\MyRepos\\Design Project II\\Book_spine_2.v4i.yolov11\\data.yaml\", epochs=300, imgsz=640, device=\"cuda\", batch=16, workers=4)"
   ]
  }
 ],
 "metadata": {
  "kernelspec": {
   "display_name": "py39_with_cuda",
   "language": "python",
   "name": "python3"
  },
  "language_info": {
   "codemirror_mode": {
    "name": "ipython",
    "version": 3
   },
   "file_extension": ".py",
   "mimetype": "text/x-python",
   "name": "python",
   "nbconvert_exporter": "python",
   "pygments_lexer": "ipython3",
   "version": "3.9.20"
  }
 },
 "nbformat": 4,
 "nbformat_minor": 2
}
